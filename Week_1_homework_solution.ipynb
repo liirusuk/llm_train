{
  "nbformat": 4,
  "nbformat_minor": 0,
  "metadata": {
    "colab": {
      "provenance": [],
      "include_colab_link": true
    },
    "kernelspec": {
      "name": "python3",
      "display_name": "Python 3"
    },
    "language_info": {
      "name": "python"
    }
  },
  "cells": [
    {
      "cell_type": "markdown",
      "metadata": {
        "id": "view-in-github",
        "colab_type": "text"
      },
      "source": [
        "<a href=\"https://colab.research.google.com/github/liirusuk/llm_train/blob/main/Week_1_homework_solution.ipynb\" target=\"_parent\"><img src=\"https://colab.research.google.com/assets/colab-badge.svg\" alt=\"Open In Colab\"/></a>"
      ]
    },
    {
      "cell_type": "markdown",
      "source": [
        "# Part 1. Exploring OpenAI tokenizer\n",
        "\n",
        "In this task we'll continue experimenting with LLM tokenizers to better understand their properties and restrictions.\n",
        "\n",
        "Let's make sure that we have the `tiktoken` library installed:"
      ],
      "metadata": {
        "id": "ar9xouzsMfdy"
      }
    },
    {
      "cell_type": "code",
      "execution_count": null,
      "metadata": {
        "colab": {
          "base_uri": "https://localhost:8080/"
        },
        "id": "xMtKJTBmKScJ",
        "outputId": "f6e1ed2e-1ac2-4a73-e086-1616caf4a0fa"
      },
      "outputs": [
        {
          "output_type": "stream",
          "name": "stdout",
          "text": [
            "Collecting tiktoken\n",
            "  Downloading tiktoken-0.8.0-cp310-cp310-manylinux_2_17_x86_64.manylinux2014_x86_64.whl.metadata (6.6 kB)\n",
            "Requirement already satisfied: regex>=2022.1.18 in /usr/local/lib/python3.10/dist-packages (from tiktoken) (2024.9.11)\n",
            "Requirement already satisfied: requests>=2.26.0 in /usr/local/lib/python3.10/dist-packages (from tiktoken) (2.32.3)\n",
            "Requirement already satisfied: charset-normalizer<4,>=2 in /usr/local/lib/python3.10/dist-packages (from requests>=2.26.0->tiktoken) (3.4.0)\n",
            "Requirement already satisfied: idna<4,>=2.5 in /usr/local/lib/python3.10/dist-packages (from requests>=2.26.0->tiktoken) (3.10)\n",
            "Requirement already satisfied: urllib3<3,>=1.21.1 in /usr/local/lib/python3.10/dist-packages (from requests>=2.26.0->tiktoken) (2.2.3)\n",
            "Requirement already satisfied: certifi>=2017.4.17 in /usr/local/lib/python3.10/dist-packages (from requests>=2.26.0->tiktoken) (2024.8.30)\n",
            "Downloading tiktoken-0.8.0-cp310-cp310-manylinux_2_17_x86_64.manylinux2014_x86_64.whl (1.2 MB)\n",
            "\u001b[?25l   \u001b[90m━━━━━━━━━━━━━━━━━━━━━━━━━━━━━━━━━━━━━━━━\u001b[0m \u001b[32m0.0/1.2 MB\u001b[0m \u001b[31m?\u001b[0m eta \u001b[36m-:--:--\u001b[0m\r\u001b[2K   \u001b[90m━━━━━━━━━━━━━━━━━━━━━━━━━━━━━━━━━━━━━━━━\u001b[0m \u001b[32m1.2/1.2 MB\u001b[0m \u001b[31m34.6 MB/s\u001b[0m eta \u001b[36m0:00:00\u001b[0m\n",
            "\u001b[?25hInstalling collected packages: tiktoken\n",
            "Successfully installed tiktoken-0.8.0\n"
          ]
        }
      ],
      "source": [
        "!pip install tiktoken"
      ]
    },
    {
      "cell_type": "markdown",
      "source": [
        "Let's start by looking at some particular tokens.\n",
        "\n",
        "**Task 1.1**. Print the subword unit (a string) corresponding to the token index 10101.\n",
        "\n",
        "Food for thought:\n",
        "Try to guess why do we have this strange string among tokens. It should have been quite frequent in the training data to appear as a token."
      ],
      "metadata": {
        "id": "R_H15pEhSwQR"
      }
    },
    {
      "cell_type": "code",
      "source": [
        "import tiktoken\n",
        "\n",
        "encoding = tiktoken.encoding_for_model('gpt-4o')\n",
        "\n",
        "print(encoding.decode([10101]))"
      ],
      "metadata": {
        "id": "nKZ8L646drGZ",
        "colab": {
          "base_uri": "https://localhost:8080/"
        },
        "outputId": "ab6693a6-7591-4827-bc92-4d8a0de61913"
      },
      "execution_count": null,
      "outputs": [
        {
          "output_type": "stream",
          "name": "stdout",
          "text": [
            "/**\n"
          ]
        }
      ]
    },
    {
      "cell_type": "markdown",
      "source": [
        "Now, let's check the vocabulary size of GPT-4o. Web search can quickly give us the number 200k, but we want to be sure.\n",
        "\n",
        "If we explore the `encoding` object a bit more deeply, we will find:\n",
        "\n",
        "- `encoding._mergeable_ranks` contains regular `token:index` dictionary; its size is 199998.\n",
        "- `encoding._special_tokens` contains two special tokens:"
      ],
      "metadata": {
        "id": "fovDi3L5SGch"
      }
    },
    {
      "cell_type": "code",
      "source": [
        "encoding._special_tokens"
      ],
      "metadata": {
        "colab": {
          "base_uri": "https://localhost:8080/"
        },
        "id": "0sTijh6cWA9K",
        "outputId": "377d6580-3b88-495f-f7a8-3407a3338c35"
      },
      "execution_count": null,
      "outputs": [
        {
          "output_type": "execute_result",
          "data": {
            "text/plain": [
              "{'<|endoftext|>': 199999, '<|endofprompt|>': 200018}"
            ]
          },
          "metadata": {},
          "execution_count": 5
        }
      ]
    },
    {
      "cell_type": "markdown",
      "source": [
        "So, indeed we have 200k items in the dictionary."
      ],
      "metadata": {
        "id": "ZtsGS5KBo_x5"
      }
    },
    {
      "cell_type": "markdown",
      "source": [
        "**Task 1.2.** LLM's dictionary, that is the list of all subwords it uses as tokens, is trained on common crawl web data. How exactly it is done, you'll learn further in the course. Right now, we'll observe how the training set composition influences the behaviour of tokenization for different languages.\n",
        "\n",
        "For this task, we've chosen four languages: English, French, Swahili, and Traditional Chinese. We generated a short story in Simple English about peasants and animals, and then we translated it to other languages using Google translate. Thus we've got a dictionary of four strings:\n",
        "```\n",
        "excerpts = {\n",
        "    'English': ...,\n",
        "    'French': ...,\n",
        "    'Swahili': ...,\n",
        "    'Chinese': ...\n",
        "}\n",
        "```\n",
        "\n",
        "Find the length of tokenized sequences for each of these strings. Observe the difference.\n",
        "\n",
        "**Food for thought.** Why did we choose such a naive topic for the short story? Why not adventures of a Little Brave Python in the world of Machine Learning? Why not just take the wikipedia article about Jacques-Louis David? Hint: that would damage the purity of our experiment.\n",
        "\n",
        "The data is:"
      ],
      "metadata": {
        "id": "J_0dIvz-O3yr"
      }
    },
    {
      "cell_type": "code",
      "source": [
        "excerpts = {\n",
        "    'English': '''\n",
        "Once upon a time, in a small village, there lived some kind peasants. They worked hard every day, taking care of their fields and animals. The peasants had cows, chickens, goats, and a big brown dog named Buddy.\n",
        "\n",
        "Every morning, the peasants woke up early. They fed the chickens, who clucked happily. They milked the cows, who gave them fresh, sweet milk. The goats liked to jump and play, making everyone laugh. Buddy, the dog, helped keep the animals safe.\n",
        "\n",
        "One day, a storm came. The wind blew hard, and the rain fell heavily. The peasants quickly brought all the animals into the big barn. Inside, it was warm and dry. The cows lay down on the soft hay. The chickens snuggled together on their perch. The goats found a corner to rest, and Buddy lay by the door, watching over everyone.\n",
        "\n",
        "The storm lasted all night, but the peasants and their animals were safe in the barn. In the morning, the sun came out, and the storm was gone. The peasants opened the barn doors, and the animals went outside, happy and free.\n",
        "\n",
        "The peasants fixed the fences and cleaned the barn. They worked together, helping each other and their animals. At the end of the day, they sat under a big tree, watching the sunset. Buddy lay at their feet, and the animals grazed nearby.\n",
        "\n",
        "The village was peaceful, and the peasants were happy. They knew that as long as they took care of their animals and each other, they would always have a good life.\n",
        "\n",
        "And so, they lived happily ever after.\n",
        "''',\n",
        "    'French': '''\n",
        "Il était une fois, dans un petit village, de gentils paysans. Ils travaillaient dur chaque jour, prenant soin de leurs champs et de leurs animaux. Les paysans avaient des vaches, des poules, des chèvres et un gros chien brun nommé Buddy.\n",
        "\n",
        "Chaque matin, les paysans se réveillaient tôt. Ils nourrissaient les poules qui glousaient joyeusement. Ils traitaient les vaches qui leur donnaient du lait frais et sucré. Les chèvres aimaient sauter et jouer, faisant rire tout le monde. Buddy, le chien, a aidé à assurer la sécurité des animaux.\n",
        "\n",
        "Un jour, une tempête est arrivée. Le vent soufflait fort et la pluie tombait abondamment. Les paysans ont rapidement amené tous les animaux dans la grande grange. À l’intérieur, il faisait chaud et sec. Les vaches se couchent sur le foin moelleux. Les poules se blottissaient les unes contre les autres sur leur perchoir. Les chèvres trouvèrent un coin pour se reposer et Buddy resta allongé près de la porte, veillant sur tout le monde.\n",
        "\n",
        "La tempête a duré toute la nuit, mais les paysans et leurs animaux étaient en sécurité dans la grange. Le matin, le soleil s'est levé et la tempête s'est calmée. Les paysans ouvrirent les portes de la grange et les animaux sortirent, heureux et libres.\n",
        "\n",
        "Les paysans réparèrent les clôtures et nettoyèrent la grange. Ils ont travaillé ensemble, s'entraidant ainsi que leurs animaux. À la fin de la journée, ils étaient assis sous un grand arbre et regardaient le coucher du soleil. Buddy gisait à leurs pieds et les animaux paissaient à proximité.\n",
        "\n",
        "Le village était paisible et les paysans étaient heureux. Ils savaient que tant qu’ils prendraient soin de leurs animaux et les uns des autres, ils auraient toujours une belle vie.\n",
        "\n",
        "Et ainsi, ils vécurent heureux pour toujours.\n",
        "''',\n",
        "  'Swahili': '''\n",
        "Hapo zamani za kale, katika kijiji kidogo waliishi wakulima wa aina fulani. Walifanya kazi kwa bidii kila siku, wakitunza mashamba na wanyama wao. Wakulima walikuwa na ng'ombe, kuku, mbuzi, na mbwa mkubwa wa kahawia aliyeitwa Buddy.\n",
        "\n",
        "Kila asubuhi, wakulima waliamka mapema. Walilisha kuku, ambao waliruka kwa furaha. Wakakamua ng'ombe, ambaye aliwapa maziwa safi, matamu. Mbuzi walipenda kuruka na kucheza, na kufanya kila mtu acheke. Buddy, mbwa, alisaidia kuweka wanyama salama.\n",
        "\n",
        "Siku moja, dhoruba ilikuja. Upepo ulivuma kwa nguvu, na mvua ikanyesha sana. Wakulima haraka wakaleta wanyama wote kwenye zizi kubwa. Ndani, kulikuwa na joto na kavu. Ng'ombe walilala kwenye nyasi laini. Kuku walijibana kwenye sangara wao. Mbuzi walipata kona ya kupumzika, na Buddy akalala karibu na mlango, akiangalia kila mtu.\n",
        "\n",
        "Dhoruba hiyo ilidumu usiku kucha, lakini wakulima na wanyama wao walikuwa salama ghalani. Asubuhi, jua lilitoka, na dhoruba ikatoweka. Wakulima walifungua milango ya ghalani, na wanyama wakatoka nje, wakiwa na furaha na huru.\n",
        "\n",
        "Wakulima walitengeneza ua na kusafisha ghala. Walifanya kazi pamoja, kusaidiana na wanyama wao. Mwisho wa siku walikaa chini ya mti mkubwa wakitazama machweo ya jua. Rafiki alilala miguuni mwao, na wanyama walilisha karibu.\n",
        "\n",
        "Kijiji kilikuwa na amani, na wakulima walikuwa na furaha. Walijua kwamba maadamu wanatunza wanyama wao na kila mmoja wao, wangekuwa na maisha mazuri kila wakati.\n",
        "\n",
        "Na hivyo, waliishi kwa furaha milele.\n",
        "''',\n",
        "  'Chinese': '''\n",
        "從前，在一個小村莊裡，住著一些善良的農夫。他們每天努力工作，照顧他們的田地和動物。農民養了牛、雞、山羊和一隻名叫巴迪的棕色大狗。\n",
        "\n",
        "每天早上，農民們都早早起床。他們餵雞，雞高興地咯咯叫。他們給乳牛擠奶，乳牛給它們新鮮、甜的牛奶。山羊們喜歡跳來跳去，玩耍，逗得大家哈哈大笑。巴迪狗幫助保護動物的安全。\n",
        "\n",
        "有一天，一場暴風雨來了。風刮得很大，雨也下得很大。農夫很快就把所有的牲畜都帶進了大穀倉。裡面溫暖而乾燥。奶牛躺在柔軟的乾草上。雞們在棲木上依偎在一起。山羊們找到了一個角落休息，巴迪躺在門口，看著大家。\n",
        "\n",
        "暴風雨持續了一夜，但農民和他們的動物在穀倉裡很安全。早上，太陽出來了，暴風雨也過去了。農民打開穀倉的門，動物們快樂自由地走出去。\n",
        "\n",
        "農民們修好了柵欄，打掃了穀倉。他們一起工作，互相幫助，也幫助他們的動物。一天結束時，他們坐在一棵大樹下，看著日落。巴迪躺在他們腳邊，動物們在附近吃草。\n",
        "\n",
        "村子裡太平了，農夫們都幸福了。他們知道，只要照顧好自己的動物和彼此，他們就會永遠過著美好的生活。\n",
        "\n",
        "就這樣，他們從此過上了幸福的生活。\n",
        "'''\n",
        "}"
      ],
      "metadata": {
        "id": "5VFqB-ANO3PD"
      },
      "execution_count": null,
      "outputs": []
    },
    {
      "cell_type": "markdown",
      "source": [
        "**Solution**"
      ],
      "metadata": {
        "id": "_KTdequ164aM"
      }
    },
    {
      "cell_type": "code",
      "source": [
        "for language, excerpt in excerpts.items():\n",
        "    print(f\"{language}: {len(encoding.encode(excerpt))} tokens\")"
      ],
      "metadata": {
        "colab": {
          "base_uri": "https://localhost:8080/"
        },
        "id": "52-MHQ266yJ_",
        "outputId": "aa988b2d-eaa3-41a4-9ee6-3188a51c8c90"
      },
      "execution_count": null,
      "outputs": [
        {
          "output_type": "stream",
          "name": "stdout",
          "text": [
            "English: 334 tokens\n",
            "French: 427 tokens\n",
            "Swahili: 464 tokens\n",
            "Chinese: 447 tokens\n"
          ]
        }
      ]
    },
    {
      "cell_type": "markdown",
      "source": [
        "As another useful illustration, let's plot histograms of character lengths of individual tokens for each of the languages:"
      ],
      "metadata": {
        "id": "07EiZtIe3BkF"
      }
    },
    {
      "cell_type": "code",
      "source": [
        "import matplotlib.pyplot as plt\n",
        "\n",
        "def plot_token_length_histogram(text, language_name):\n",
        "    encoding = tiktoken.encoding_for_model('gpt-4o')\n",
        "    tokens = encoding.encode(text)\n",
        "\n",
        "    decoded_tokens = [encoding.decode([t]) for t in tokens]\n",
        "    token_lengths = [len(t) for t in decoded_tokens]\n",
        "    plt.hist(token_lengths, bins=len(set(token_lengths)))\n",
        "    plt.title(f'Token Length Distribution for {language_name}')\n",
        "    plt.xlim([0,15])\n",
        "    plt.ylim([0,200])\n",
        "\n",
        "def plot_word_length_histogram(text, language_name):\n",
        "    if language != 'Chinese':\n",
        "        word_lengths = [len(t) for t in text.split()]\n",
        "        plt.hist(word_lengths, bins=len(set(word_lengths)))\n",
        "        plt.title(f'Word Length Distribution for {language_name}')\n",
        "        plt.xlim([0,15])\n",
        "        plt.ylim([0,75])\n",
        "\n",
        "plt.figure(figsize=(20, 9))\n",
        "\n",
        "for i, language in enumerate(['English', 'French', 'Swahili', 'Chinese']):\n",
        "    # Token length histograms\n",
        "    plt.subplot(2, 4, 1 + i)\n",
        "    plot_token_length_histogram(excerpts[language], language)\n",
        "\n",
        "    # Word length histograms\n",
        "    plt.subplot(2, 4, 5 + i)\n",
        "    plot_word_length_histogram(excerpts[language], language)\n"
      ],
      "metadata": {
        "id": "57uLjAolOHZK",
        "colab": {
          "base_uri": "https://localhost:8080/",
          "height": 419
        },
        "outputId": "04f8379e-7bd4-439f-f6dd-431be2867f61"
      },
      "execution_count": null,
      "outputs": [
        {
          "output_type": "display_data",
          "data": {
            "text/plain": [
              "<Figure size 2000x900 with 8 Axes>"
            ],
            "image/png": "[encoded data removed]"
          },
          "metadata": {}
        }
      ]
    },
    {
      "cell_type": "markdown",
      "source": [
        "Which peculiarities do you observe?"
      ],
      "metadata": {
        "id": "bWqKis9d5F1a"
      }
    },
    {
      "cell_type": "markdown",
      "source": [
        "**Task 1.3.** Check how the tokenizer splits the Chinese text. You will find that some of the tokens are strange and have no clear correspondence in the text. Why do we have such tokens?"
      ],
      "metadata": {
        "id": "Mrv8cTKar4x4"
      }
    },
    {
      "cell_type": "markdown",
      "source": [
        "# Task 2. Book summarization with LLMs\n",
        "\n",
        "The credit for this task goes to Alex Umnov, who created this task for our [Practical Generative AI](https://academy.nebius.com/generative-ai) course."
      ],
      "metadata": {
        "id": "o_yb1yamk37v"
      }
    },
    {
      "cell_type": "markdown",
      "source": [
        "LLMs are great tools for summarization, but they are not able to process arbitrary long texts, and even less in languages different from English. So, what if we want to summarize a whole book? Let's try to make a workaround for this.\n",
        "\n",
        "To test our solutions we will be using CMU dataset for book summarization. Let's start with downloading a sample of book dataset from huggingface\n",
        "\n",
        "```\n",
        "@article{kryscinski2021booksum,\n",
        "      title={BookSum: A Collection of Datasets for Long-form Narrative Summarization},\n",
        "      author={Wojciech Kry{\\'s}ci{\\'n}ski and Nazneen Rajani and Divyansh Agarwal and Caiming Xiong and Dragomir Radev},\n",
        "      year={2021},\n",
        "      eprint={2105.08209},\n",
        "      archivePrefix={arXiv},\n",
        "      primaryClass={cs.CL}\n",
        "}\n",
        "```"
      ],
      "metadata": {
        "id": "TCquFBa0lV4T"
      }
    },
    {
      "cell_type": "code",
      "source": [
        "!curl -X GET \\\n",
        "     \"https://datasets-server.huggingface.co/rows?dataset=kmfoda%2Fbooksum&config=default&split=train&offset=0&limit=100\" > book_sum_dataset.txt"
      ],
      "metadata": {
        "id": "I4A1FhGglnEV",
        "colab": {
          "base_uri": "https://localhost:8080/"
        },
        "outputId": "b7779fe3-241c-400c-8afe-b4e739bf64b6"
      },
      "execution_count": null,
      "outputs": [
        {
          "output_type": "stream",
          "name": "stdout",
          "text": [
            "  % Total    % Received % Xferd  Average Speed   Time    Time     Time  Current\n",
            "                                 Dload  Upload   Total   Spent    Left  Speed\n",
            "100 3771k  100 3771k    0     0  2373k      0  0:00:01  0:00:01 --:--:-- 2374k\n"
          ]
        }
      ]
    },
    {
      "cell_type": "code",
      "source": [
        "import json\n",
        "\n",
        "book_dataset = json.load(open(\"book_sum_dataset.txt\"))"
      ],
      "metadata": {
        "id": "uFpDn2UOlpBD"
      },
      "execution_count": null,
      "outputs": []
    },
    {
      "cell_type": "markdown",
      "source": [
        "Let's look at one row of our database. Beware: a large text will get printed."
      ],
      "metadata": {
        "id": "zwcl0HjElnU8"
      }
    },
    {
      "cell_type": "code",
      "source": [
        "book_dataset['rows'][5]"
      ],
      "metadata": {
        "id": "YDnmn2nllsji"
      },
      "execution_count": null,
      "outputs": []
    },
    {
      "cell_type": "markdown",
      "source": [
        "**Task 2.1.** Use `tiktoken` to calculate mean and maximal length of the chapters in GPT-4o-mini tokens."
      ],
      "metadata": {
        "id": "ecSGJj37ltG9"
      }
    },
    {
      "cell_type": "code",
      "source": [
        "!pip install -q openai tiktoken"
      ],
      "metadata": {
        "id": "JgymtlAB9zPE"
      },
      "execution_count": null,
      "outputs": []
    },
    {
      "cell_type": "code",
      "source": [
        "import os\n",
        "\n",
        "with open(\"openai_api_key\", \"r\") as file:\n",
        "    openai_api_key = file.read().strip()\n",
        "\n",
        "os.environ[\"OPENAI_API_KEY\"] = openai_api_key\n",
        "\n",
        "with open(\"nebius_api_key\", \"r\") as file:\n",
        "    nebius_api_key = file.read().strip()\n",
        "\n",
        "os.environ[\"NEBIUS_API_KEY\"] = nebius_api_key"
      ],
      "metadata": {
        "id": "IsBwNqgo91Tc"
      },
      "execution_count": null,
      "outputs": []
    },
    {
      "cell_type": "code",
      "source": [
        "import openai\n",
        "import tiktoken\n",
        "import nltk\n",
        "import urllib3.exceptions\n",
        "from google.colab import userdata\n",
        "nltk.download('punkt')\n",
        "\n",
        "from openai import OpenAI\n",
        "\n",
        "CHUNK_SIZE_LIMIT = 2500\n",
        "\n",
        "def summarise_with_llm(text: str, client, model):\n",
        "    completion = client.chat.completions.create(\n",
        "        model=model,\n",
        "        messages=[\n",
        "            {\n",
        "                \"role\": \"system\",\n",
        "                \"content\": \"You are an expert text summarizer.\"\n",
        "            },\n",
        "            {\n",
        "                \"role\": \"user\",\n",
        "                \"content\": f\"\"\"Write a concise summary of the following text:\n",
        "\n",
        "TEXT: {text}\"\"\"},\n",
        "        ]\n",
        "    )\n",
        "\n",
        "    return completion.choices[0].message.content\n",
        "\n",
        "def summarize_long_text_with_chatgpt(chapter: str, client, model, encoding) -> str:\n",
        "    target_length = len(chapter) // 4\n",
        "    current_chapter = chapter\n",
        "\n",
        "    iteration = 0\n",
        "    while len(current_chapter) > target_length:\n",
        "        print(f\"Iteration {iteration} length: {len(current_chapter)}\")\n",
        "        print(f\"Running iteration {iteration}\")\n",
        "        sentences = nltk.sent_tokenize(current_chapter)\n",
        "        chunks = []\n",
        "        current_chunk = \"\"\n",
        "        for sentence in sentences:\n",
        "            if len(encoding.encode(current_chunk)) + len(encoding.encode(sentence)) > CHUNK_SIZE_LIMIT:\n",
        "                chunks.append(current_chunk)\n",
        "                current_chunk = sentence\n",
        "            else:\n",
        "                current_chunk += sentence\n",
        "        if len(current_chunk) > 0:\n",
        "            chunks.append(current_chunk)\n",
        "\n",
        "        summarized_chunks = [summarise_with_llm(chunk, client, model) for chunk in chunks]\n",
        "        current_chapter = \"\".join(summarized_chunks)\n",
        "        iteration += 1\n",
        "\n",
        "    return current_chapter"
      ],
      "metadata": {
        "id": "JSNOZP_JmPOr",
        "colab": {
          "base_uri": "https://localhost:8080/"
        },
        "outputId": "c8f0a685-2fab-44ad-ad5b-fbad64e48a6c"
      },
      "execution_count": null,
      "outputs": [
        {
          "output_type": "stream",
          "name": "stderr",
          "text": [
            "[nltk_data] Downloading package punkt to /root/nltk_data...\n",
            "[nltk_data]   Package punkt is already up-to-date!\n"
          ]
        }
      ]
    },
    {
      "cell_type": "code",
      "source": [
        "model = 'gpt-4o-mini'\n",
        "client = OpenAI()\n",
        "encoding = tiktoken.encoding_for_model(model)\n",
        "\n",
        "sample_chapter = book_dataset['rows'][0]['row']['chapter']\n",
        "summarized_chapter = summarize_long_text_with_chatgpt(\n",
        "    sample_chapter,\n",
        "    client=client,\n",
        "    model=model,\n",
        "    encoding=encoding\n",
        "    )\n",
        "print('SUMMARY:', summarized_chapter[:200])\n",
        "print()\n",
        "print('SUMMARY LENGTH', len(summarized_chapter))\n",
        "assert len(summarized_chapter) < len(sample_chapter) // 2"
      ],
      "metadata": {
        "colab": {
          "base_uri": "https://localhost:8080/"
        },
        "id": "mLSfA0f9BKlh",
        "outputId": "a28273f8-739d-4593-8c5d-696333439157"
      },
      "execution_count": null,
      "outputs": [
        {
          "output_type": "stream",
          "name": "stdout",
          "text": [
            "Iteration 0 length: 40844\n",
            "Running iteration 0\n",
            "SUMMARY: The text describes the brutal colonial warfare between France and England in North America, emphasizing the challenges faced by soldiers traversing vast, treacherous wilderness to engage in battle. It\n",
            "\n",
            "SUMMARY LENGTH 3168\n"
          ]
        }
      ]
    },
    {
      "cell_type": "markdown",
      "source": [
        "You'll see that the chapter lengths are not too large, they would still fit into the context length of GPT-4o-mini or Meta-Llama-3.1-405B-Instruct, but\n",
        "\n",
        "(a) We already know that not some texts are much larger that 128k tokens, so that we need to learn how to summarize a text without loading it all in one prompt, and\n",
        "\n",
        "(b) LLM capabilities wane at larger context lengths, so if we can process a text in shorter chunks, it's good for us."
      ],
      "metadata": {
        "id": "nboV2iiOmU3S"
      }
    },
    {
      "cell_type": "markdown",
      "source": [
        "What we'll do is:\n",
        "1. Split the text into smaller chunks.\n",
        "2. Summarize each of the chunks.\n",
        "3. Concatenate all the summaries. If the total length is still above our chosen threshold, repeat the steps 1 and 2 until it's ok.\n",
        "4. Summarize the concatenations of the summaries.\n",
        "\n",
        "## Your task\n",
        "\n",
        "Write a function\n",
        "\n",
        "```summarize_long_text_with_chatgpt(chapter: str) -> str```\n",
        "\n",
        "implementing the above method of summarization.\n",
        "\n",
        "Don't forget to log the lengths each iteration to see how much the texts shrink.\n",
        "\n",
        "For a given example, please analyse your intermediate and final results. Is it indeed a good summary of the text?\n",
        "\n",
        "**Hints and suggestions**:\n",
        "- Keep in mind, that MAX TOKENS restrictions takes into account both prompt and completion. So, you also need to leave some tokens for a response. So we'd suggest using at least 2:1 token ratio for chapter and summary.\n",
        "- You can control the length of the summary with prompts.\n",
        "- If you just use `split(\".\")`, you won't get a proper splitting into sentences. Luckily we have convenient Python libraries for text processing. We recommend using `sent_tokenize` from the `nltk` library (but you'll need to run `nltk.download('punkt')` before using it). You can also try splitting the text into chunks of paragraphs instead.\n",
        "- It's difficult to measure the quality of summarization, but please analyze at lease two examples. Are the summaries coherent?\n",
        "- If you need inspiration in prompt building, take a look at this [paper](https://arxiv.org/pdf/2312.16171v1.pdf)"
      ],
      "metadata": {
        "id": "NCWpcW9LqCJs"
      }
    },
    {
      "cell_type": "code",
      "source": [
        "CHUNK_SIZE_LIMIT = 2500\n",
        "\n",
        "def summarize_long_text_with_chatgpt(chapter: str) -> str:\n",
        "    # <YOUR CODE HERE>"
      ],
      "metadata": {
        "id": "Nv9Rz3N_qwgQ"
      },
      "execution_count": null,
      "outputs": []
    },
    {
      "cell_type": "markdown",
      "source": [
        "## Part 3. Exploring LLM behaviour on more and less frequent tasks"
      ],
      "metadata": {
        "id": "0hLi1MRQS388"
      }
    },
    {
      "cell_type": "markdown",
      "source": [
        "This part is inspired by the [Embers of Autoregression](https://arxiv.org/pdf/2309.13638) paper, which argues that the success of solving a problem with an LLM depends on how typical are\n",
        "\n",
        "- the input,\n",
        "- the output,\n",
        "- and the task itself in the LLM's training data.\n",
        "\n",
        "At the lecture, we witnessed how the output frequency (200 vs 201) influences it, and now we'll talk about the task and the input.\n",
        "\n",
        "A **Caesar cipher** shifts all the characters in the word by the same number of positions (which is called **shift**). This is a simple and well-known cipher type, so there are many examples in the net, and some of those get into the LLM training datasets. However, not all ciphers are equally popular. As the authors of 'Embers of Autoregression' observe, shift 13 is quite popular and has 1000+ occurences in one of the datasets often used for LLM training, ciphers with other shift values are much more scarse.\n",
        "\n",
        "In this task, we'll compare how well Llama-3.1-405B deciphers Caesar cipher with shifts 13 and 8."
      ],
      "metadata": {
        "id": "UlHYUYkeTBe_"
      }
    },
    {
      "cell_type": "markdown",
      "source": [
        "**Task 3.1.** Use your favourite LLM to create `caesar_cipher` function, which:\n",
        "- takes arguments `text` (string) and `shift` (int),\n",
        "- returns the `text` shifted by `shift` positions.\n",
        "\n",
        "Please check that the function really does what it should! You can never know when an LLM is going to betray you..."
      ],
      "metadata": {
        "id": "SSCYM994aolS"
      }
    },
    {
      "cell_type": "code",
      "source": [
        "def caesar_cipher(text, shift):\n",
        "    result = \"\"\n",
        "\n",
        "    # <YOUR CODE HERE>\n",
        "\n",
        "    return result\n",
        "\n",
        "# Example usage\n",
        "text = \"Hello, World!\"\n",
        "shift = 3\n",
        "encrypted_text = caesar_cipher(text, shift)\n",
        "print(\"Encrypted text:\", encrypted_text)"
      ],
      "metadata": {
        "colab": {
          "base_uri": "https://localhost:8080/"
        },
        "id": "yAxcCtffatU0",
        "outputId": "15830ae9-3468-4bff-e761-a989fc53e7cd"
      },
      "execution_count": null,
      "outputs": [
        {
          "output_type": "stream",
          "name": "stdout",
          "text": [
            "Encrypted text: Khoor, Zruog!\n"
          ]
        }
      ]
    },
    {
      "cell_type": "markdown",
      "source": [
        "We suggest using the following sentences to assess Llama's deciphering capabilitles, but feel free to check your own phrases as well."
      ],
      "metadata": {
        "id": "ymGOs1nybdO3"
      }
    },
    {
      "cell_type": "code",
      "source": [
        "test_sentences = [\n",
        "    \"The power of knowledge lies in understanding and growth.\",\n",
        "    \"Every journey begins with a single step toward the unknown.\",\n",
        "    \"Effective communication requires both speaking and listening.\",\n",
        "    \"Technology has rapidly transformed the way we connect with others.\",\n",
        "    \"Creativity flourishes when freedom and structure are balanced.\",\n",
        "    \"Innovation often emerges from unexpected challenges and obstacles.\",\n",
        "    \"A well-prepared mind can turn any situation into an opportunity.\",\n",
        "    \"Patience and persistence are essential for achieving long-term goals.\",\n",
        "    \"Respect for diversity enriches society and promotes understanding.\",\n",
        "   \"Success is a journey defined by progress, not perfection.\"\n",
        "]"
      ],
      "metadata": {
        "id": "WeZ58ZcuaxUd"
      },
      "execution_count": null,
      "outputs": []
    },
    {
      "cell_type": "markdown",
      "source": [
        "Now, let's check that the openai library is installed."
      ],
      "metadata": {
        "id": "RzkisJRjbq6P"
      }
    },
    {
      "cell_type": "code",
      "source": [
        "!pip install -q openai"
      ],
      "metadata": {
        "id": "ybuM-DICbqRW"
      },
      "execution_count": null,
      "outputs": []
    },
    {
      "cell_type": "markdown",
      "source": [
        "Below, we've written an evaluation function for your convenience. It applies the caesar cipher and asks the LLM to decipher it using the prompt from the paper."
      ],
      "metadata": {
        "id": "Enrumwukb3Hv"
      }
    },
    {
      "cell_type": "code",
      "source": [
        "from tqdm import tqdm\n",
        "from openai import OpenAI\n",
        "import openai\n",
        "\n",
        "def check_llm_decipering(\n",
        "    sentences, shift=13,\n",
        "    model=\"meta-llama/Meta-Llama-3.1-405B-Instruct\",\n",
        "    ):\n",
        "\n",
        "    deciphered_sentences = []\n",
        "    for sentence in tqdm(test_sentences):\n",
        "        prompt = f\"\"\"Rot-13 is a cipher in which each letter is shifted 13 positions forward in the alphabet.\n",
        "For example, here is a message written in rot-13 along with the original text that it was created from:\n",
        "Rot-13 text: “Fgnl urer!”\n",
        "Original text: “Stay here!”\n",
        "\n",
        "Here is another message in rot-13. Decode this message to produce the original text.\n",
        "Rot-13 text: “{caesar_cipher(sentence, shift)}”\n",
        "Original text:\"\"\"\n",
        "        client = OpenAI(\n",
        "            base_url=\"https://api.studio.nebius.ai/v1/\",\n",
        "            api_key=os.environ.get(\"NEBIUS_API_KEY\"),\n",
        "        )\n",
        "\n",
        "        completion = client.chat.completions.create(\n",
        "            model=model,\n",
        "            messages=[\n",
        "            {\n",
        "                \"role\": \"user\",\n",
        "                \"content\": prompt\n",
        "            },\n",
        "            ],\n",
        "            temperature=0.6,\n",
        "            max_tokens=1024,\n",
        "            top_p=0.9\n",
        "        )\n",
        "\n",
        "        deciphered_text = completion.choices[0].message.content\n",
        "\n",
        "        deciphered_sentences.append(deciphered_text)\n",
        "\n",
        "    return deciphered_sentences"
      ],
      "metadata": {
        "id": "YkMvsDKIb3Vo"
      },
      "execution_count": null,
      "outputs": []
    },
    {
      "cell_type": "markdown",
      "source": [
        "**Task 3.2.** Launch `check_llm_decipering` on `test_sentences` with `shift=13` and `shift=8`. Compare the results.\n",
        "\n",
        "**Task 3.3.** Experiment with sentences in Simple English and also with sentences containing very rare, comples words. How does word complexity influence deciphering quality?"
      ],
      "metadata": {
        "id": "7dp78v_mcaXW"
      }
    },
    {
      "cell_type": "code",
      "source": [
        "# <YOUR CODE HERE>"
      ],
      "metadata": {
        "id": "v6aABPGjkq-F"
      },
      "execution_count": null,
      "outputs": []
    },
    {
      "cell_type": "markdown",
      "source": [
        "**Task 3.4${}^*$ (bonus)**. You were probably upset that Llama embarks on a long discussion instead of just giving you the answer. This way, you can check the results with your own eyes, of course, but you can't automate computation of deciphering accuracy.\n",
        "\n",
        "Next week we'll discuss how to extract the answer from LLM's reasoning using LLMs, but today we suggest you to do it with clever prompting and rule-based extraction.\n",
        "\n",
        "There are two possible ideas:\n",
        "\n",
        "- *Idea 1*. Forbidding the LLM to output anything apart from the answer in the prompt. We advise agains it, because\n",
        "\n",
        "  (a) There is no guarantee that the LLM will actually obey. Some excessive information may still leak into the completion.\n",
        "\n",
        "  (b) Deciphering quality may suffer.\n",
        "\n",
        "- *Idea 2*. If we can't forbid LLM from writing a solution, we can still ask it to use a proper formating. For example, you can ask the LLM to write the answer after `FINAL OUTPUT:` without quotes and other punctuation marks around it. You will still need to check that it obeys the format, but this way it will be much easier for you to parse the actual answer from the completion.\n",
        "\n",
        "Your task is:\n",
        "\n",
        "- Modify the deciphering prompt in a way that the answer may be conveniently parsed from the completion. You may use our suggestion or come up with your own. You can even ask the LLM to produce a json (maybe, this will work). Just please don't forget to check how well does the LLM keep your chosen formatting.\n",
        "- Write a function that actually extracts the answer from a completion.\n",
        "- Calculate word-level accuracy of deciphering: first, for each sentence compute the ratio\n",
        "$$\\frac{\\text{How many words are deciphered correctly in the sentence}}{\\text{How many words are there in the sentence}}$$\n",
        "then average these numbers over all sentences in `text_sentences`.\n",
        "- Compare these numbers for shifts 13 and 8."
      ],
      "metadata": {
        "id": "8PdMykU1hBgO"
      }
    },
    {
      "cell_type": "code",
      "source": [],
      "metadata": {
        "id": "MG3q5ujVhBo1"
      },
      "execution_count": null,
      "outputs": []
    },
    {
      "cell_type": "code",
      "source": [],
      "metadata": {
        "id": "zeDvOgVrr001"
      },
      "execution_count": null,
      "outputs": []
    },
    {
      "cell_type": "markdown",
      "source": [
        "## Caesar cipher\n",
        "\n",
        "This part is inspired by the [Embers of Autoregression](https://arxiv.org/pdf/2309.13638) paper.\n",
        "\n",
        "A **Caesar cipher** shifts all the characters in the word by the same number of positions (which is called **shift**). We'll compare how Llama-3.1-405B deciphers Caesar cipher with shifts 13 (very popular) and 8 (very unpopular)."
      ],
      "metadata": {
        "id": "Y3pIvxMyD6JV"
      }
    },
    {
      "cell_type": "code",
      "source": [
        "def caesar_cipher(text, shift):\n",
        "    result = \"\"\n",
        "\n",
        "    for char in text:\n",
        "        if char.isalpha():\n",
        "            shift_base = ord('A') if char.isupper() else ord('a')\n",
        "            result += chr((ord(char) - shift_base + shift) % 26 + shift_base)\n",
        "        else:\n",
        "            result += char  # Non-alphabet characters remain unchanged\n",
        "\n",
        "    return result\n",
        "\n",
        "# Example usage\n",
        "text = \"Hello, World!\"\n",
        "shift = 3\n",
        "encrypted_text = caesar_cipher(text, shift)\n",
        "print(\"Encrypted text:\", encrypted_text)"
      ],
      "metadata": {
        "id": "-V0nYx6Imr4h",
        "colab": {
          "base_uri": "https://localhost:8080/"
        },
        "outputId": "0804385c-5542-440f-93e8-946ecc19034a"
      },
      "execution_count": null,
      "outputs": [
        {
          "output_type": "stream",
          "name": "stdout",
          "text": [
            "Encrypted text: Khoor, Zruog!\n"
          ]
        }
      ]
    },
    {
      "cell_type": "code",
      "source": [
        "test_sentences = [\n",
        "    \"The power of knowledge lies in understanding and growth.\",\n",
        "    \"Every journey begins with a single step toward the unknown.\",\n",
        "    \"Effective communication requires both speaking and listening.\",\n",
        "    \"Technology has rapidly transformed the way we connect with others.\",\n",
        "    \"Creativity flourishes when freedom and structure are balanced.\",\n",
        "    \"Innovation often emerges from unexpected challenges and obstacles.\",\n",
        "    \"A well-prepared mind can turn any situation into an opportunity.\",\n",
        "    \"Patience and persistence are essential for achieving long-term goals.\",\n",
        "    \"Respect for diversity enriches society and promotes understanding.\",\n",
        "   \"Success is a journey defined by progress, not perfection.\"\n",
        "]"
      ],
      "metadata": {
        "id": "E3Vv1r93mr7W"
      },
      "execution_count": null,
      "outputs": []
    },
    {
      "cell_type": "code",
      "source": [
        "from tqdm import tqdm\n",
        "from openai import OpenAI\n",
        "import openai\n",
        "\n",
        "def check_llm_decipering(\n",
        "    sentences, shift=13,\n",
        "    model=\"meta-llama/Meta-Llama-3.1-405B-Instruct\",\n",
        "    ):\n",
        "\n",
        "    n_accurate_decipherings = 0\n",
        "    deciphering_log = []\n",
        "    for sentence in tqdm(test_sentences):\n",
        "        prompt = f\"\"\"Rot-{shift} is a cipher in which each letter is shifted {shift} positions forward in the alphabet.\n",
        "For example, here is a message written in rot-{shift} along with the original text that it was created from:\n",
        "Rot-{shift} text: “{caesar_cipher(\"Stay here!\", shift)}”\n",
        "Original text: “Stay here!”\n",
        "\n",
        "Here is another message in rot-{shift}. Decode this message to produce the original text.\n",
        "Write the original text after ORIGINAL TEXT: in the end of your answer.\n",
        "Rot-{shift} text: “{caesar_cipher(sentence, shift)}”\n",
        "        \"\"\"\n",
        "        client = OpenAI(\n",
        "            base_url=\"https://api.studio.nebius.ai/v1/\",\n",
        "            api_key=os.environ.get(\"NEBIUS_API_KEY\"),\n",
        "        )\n",
        "\n",
        "        completion = client.chat.completions.create(\n",
        "            model=model,\n",
        "            messages=[\n",
        "            {\n",
        "                \"role\": \"user\",\n",
        "                \"content\": prompt\n",
        "            },\n",
        "            ],\n",
        "            temperature=0.6,\n",
        "            max_tokens=1024,\n",
        "            top_p=0.9\n",
        "        )\n",
        "        '''completion = openai.chat.completions.create(\n",
        "            model=model,\n",
        "            messages=[\n",
        "                {\n",
        "                    \"role\": \"user\",\n",
        "                    \"content\": prompt},\n",
        "            ]\n",
        "        )'''\n",
        "\n",
        "        deciphered_text = completion.choices[0].message.content\n",
        "        if deciphered_text == sentence:\n",
        "            n_accurate_decipherings += 1\n",
        "\n",
        "        deciphering_log.append(deciphered_text)\n",
        "\n",
        "    return {\n",
        "        'accuracy': n_accurate_decipherings / len(test_sentences),\n",
        "        'log': deciphering_log,\n",
        "    }"
      ],
      "metadata": {
        "id": "20fRUgoldRNz"
      },
      "execution_count": null,
      "outputs": []
    },
    {
      "cell_type": "code",
      "source": [
        "result = check_llm_decipering(test_sentences, shift=13)"
      ],
      "metadata": {
        "colab": {
          "base_uri": "https://localhost:8080/"
        },
        "id": "7Agk3DRZ4_b2",
        "outputId": "581031fb-9930-4e6a-ad14-be3b49421912"
      },
      "execution_count": null,
      "outputs": [
        {
          "output_type": "stream",
          "name": "stderr",
          "text": [
            "100%|██████████| 10/10 [01:37<00:00,  9.74s/it]\n"
          ]
        }
      ]
    },
    {
      "cell_type": "code",
      "source": [
        "result"
      ],
      "metadata": {
        "id": "tFW7X-5JdRRC",
        "colab": {
          "base_uri": "https://localhost:8080/"
        },
        "outputId": "c2864829-1ff0-4206-c156-edb6c7e82c39"
      },
      "execution_count": null,
      "outputs": [
        {
          "output_type": "execute_result",
          "data": {
            "text/plain": [
              "{'accuracy': 0.0,\n",
              " 'log': ['To decode the message, we need to shift each letter 13 positions backward in the alphabet.\\n\\nBreaking down the given Rot-13 text:\\n- \"Gur\" becomes \"The\"\\n- \"cbjre\" becomes \"power\"\\n- \"bs\" becomes \"of\"\\n- \"xabjyrqtr\" becomes \"knowledge\"\\n- \"yvrf\" becomes \"lies\"\\n- \"va\" becomes \"in\"\\n- \"haqrefgnaqvat\" becomes \"understanding\"\\n- \"naq\" becomes \"and\"\\n- \"tebjgu\" becomes \"growth\"\\n\\nORIGINAL TEXT: The power of knowledge lies in understanding and growth.',\n",
              "  'To decode the message, we need to shift each letter 13 positions backward in the alphabet. \\n\\nHere is the decoded message:\\n- R -> E\\n- i -> v\\n- r -> e\\n- e -> r\\n- l -> y\\n-  (space remains the same)\\n- w -> j\\n- b -> o\\n- h -> u\\n- e -> r\\n- a -> n\\n- r -> e\\n- l -> y\\n-  (space remains the same)\\n- o -> b\\n- r -> e\\n- t -> g\\n- v -> i\\n- a -> n\\n- f -> s\\n-  (space remains the same)\\n- j -> w\\n- v -> i\\n- g -> u\\n- u -> h\\n-  (space remains the same)\\n- n -> a\\n-  (space remains the same)\\n- f -> s\\n- v -> i\\n- a -> n\\n- t -> g\\n- y -> l\\n- r -> e\\n-  (space remains the same)\\n- f -> s\\n- g -> t\\n- r -> e\\n- c -> p\\n-  (space remains the same)\\n- g -> t\\n- b -> o\\n- j -> w\\n- n -> a\\n- e -> r\\n- q -> d\\n-  (space remains the same)\\n- g -> t\\n- u -> h\\n- r -> e\\n-  (space remains the same)\\n- h -> u\\n- a -> n\\n- x -> k\\n- a -> n\\n- b -> o\\n- j -> w\\n- a -> n\\n\\nORIGINAL TEXT: “Every journey begins with a single step toward the unknown.”',\n",
              "  'To decode the message, we need to shift each letter 13 positions backward in the alphabet. \\n\\nHere\\'s the decoding process:\\n\\nR -> E\\nS -> F\\nS -> F\\nR -> E\\nP -> C\\nG -> T\\nV -> I\\nI -> V\\nR -> E\\n\\nP -> C\\nB -> O\\nZ -> M\\nZ -> M\\nH -> U\\nA -> N\\nV -> I\\nP -> C\\nN -> A\\nG -> T\\nV -> I\\nB -> O\\nA -> N\\n\\nE -> R\\nR -> E\\nD -> Q\\nH -> U\\nV -> I\\nE -> R\\nR -> E\\nF -> C\\nS -> F\\n\\nO -> B\\nB -> O\\nG -> T\\nU -> H\\n\\nF -> C\\nC -> O\\nR -> E\\nN -> A\\nX -> K\\nV -> I\\nA -> N\\nT -> G\\n\\nN -> A\\nA -> N\\nQ -> D\\n\\nY -> L\\nV -> I\\nF -> C\\nG -> T\\nR -> E\\nA -> N\\nV -> I\\nA -> N\\nT -> G\\n\\nNow, let\\'s put the decoded message together:\\n\\nORIGINAL TEXT: \"Effective communication requires both speaking and listening.\"',\n",
              "  \"To decode the message, we need to shift each letter 13 positions backward in the alphabet. \\n\\nHere's the decoding process:\\n- 'G' becomes 'T'\\n- 'r' becomes 'e'\\n- 'p' becomes 'c'\\n- 'u' becomes 'h'\\n- 'a' becomes 'n'\\n- 'b' becomes 'o'\\n- 'y' becomes 'l'\\n- 'b' becomes 'o'\\n- 't' becomes 'g'\\n- 'l' becomes 'y'\\n \\nContinuing this process for the entire message, we get:\\n\\n“Technology has completely transformed the way we connect with others.”\\n\\nORIGINAL TEXT: Technology has completely transformed the way we connect with others.\",\n",
              "  \"To decode the rot-13 message, we need to shift each letter 13 positions backward in the alphabet.\\n\\nHere's the decoding process:\\n- P -> C\\n- E -> R\\n- R -> E\\n- N -> A\\n- G -> T\\n- V -> I\\n- I -> V\\n- V -> I\\n- G -> T\\n- L -> Y\\n... and so on for the rest of the text.\\n\\nAfter decoding the entire message:\\n“Creativity sometimes just requires one ingredient.”\\n\\nORIGINAL TEXT: “Creativity sometimes just requires one ingredient.”\",\n",
              "  \"To decode the rot-13 text, we need to shift each letter 13 positions backward in the alphabet. \\n\\nHere's the decoding process:\\n\\n1. V -> I\\n2. A -> N\\n3. A -> N\\n4. B -> O\\n5. I -> V\\n6. N -> A\\n7. G -> T\\n8. V -> I\\n9. B -> O\\n10. A -> N\\n11. (space remains the same)\\n12. B -> O\\n13. S -> F\\n14. G -> T\\n15. R -> E\\n16. A -> N\\n17. (space remains the same)\\n18. R -> E\\n19. Z -> M\\n20. R -> E\\n21. E -> R\\n22. T -> G\\n23. R -> E\\n24. F -> S\\n25. (space remains the same)\\n26. S -> F\\n27. E -> R\\n28. B -> O\\n29. Z -> M\\n30. (space remains the same)\\n31. H -> U\\n32. A -> N\\n33. R -> E\\n34. K -> X\\n35. C -> P\\n36. R -> E\\n37. P -> C\\n38. G -> T\\n39. R -> E\\n40. Q -> D\\n41. (space remains the same)\\n42. P -> C\\n43. U -> H\\n44. N -> A\\n45. Y -> L\\n46. Y -> L\\n47. R -> E\\n48. A -> N\\n49. T -> G\\n50. R -> E\\n51. F -> S\\n52. (space remains the same)\\n53. N -> A\\n54. A -> N\\n55. Q -> D\\n56. (space remains the same)\\n57. B -> O\\n58. O -> F\\n59. F -> G\\n60. G -> N\\n61. N -> P\\n62. P -> Y\\n63. Y -> R\\n64. R -> E\\n65. F -> S\\n\\nORIGINAL TEXT: “Innovation often emerges from unexpected challenges and offsprings.”\",\n",
              "  \"To decode the rot-13 text, we need to shift each letter 13 positions backward in the alphabet. \\n\\nHere's the decoding process:\\n\\n- N -> A\\n- j -> w\\n- r -> e\\n- yy -> ll\\n- - -> (no change for hyphen)\\n- c -> p\\n- e -> r\\n- r -> e\\n- c -> p\\n- n -> a\\n- e -> r\\n- r -> e\\n- q -> d\\n- (space remains the same)\\n- z -> m\\n- v -> i\\n- a -> n\\n- q -> d\\n- (space remains the same)\\n- p -> o\\n- n -> a\\n- a -> n\\n- (space remains the same)\\n- g -> t\\n- h -> u\\n- e -> r\\n- a -> n\\n- (space remains the same)\\n- n -> a\\n- a -> n\\n- l -> y\\n- (space remains the same)\\n- f -> s\\n- v -> i\\n- g -> t\\n- h -> u\\n- n -> a\\n- g -> t\\n- v -> i\\n- b -> o\\n- a -> n\\n- (space remains the same)\\n- v -> i\\n- a -> n\\n- g -> t\\n- b -> o\\n- (space remains the same)\\n- n -> a\\n- a -> n\\n- (space remains the same)\\n- b -> o\\n- c -> p\\n- c -> p\\n- b -> o\\n- e -> r\\n- g -> t\\n- h -> u\\n- a -> n\\n- v -> i\\n- g -> t\\n- l -> y\\n\\nORIGINAL TEXT: A well-prepared mind can turn any situation into an opportunity.\",\n",
              "  \"To decode the given rot-13 message, we need to shift each letter 13 positions backward in the alphabet. \\n\\nHere's the decoding process:\\n- 'C' becomes 'P'\\n- 'n' becomes 'a'\\n- 'g' becomes 't'\\n- 'v' becomes 'i'\\n- 'r' becomes 'e'\\n- 'a' becomes 'n'\\n- 'p' becomes 'c'\\n- 'r' becomes 'e'\\n\\nContinuing this process for the entire message, we get:\\n\\n“Cngvrapr naq crefvfgrapr ner rffragvny sbe npuvrivat ybat-grez tbnyf”\\n\\nbecomes \\n\\n“Patience and perseverance are essential for overcoming long-term goals.”\\n\\nORIGINAL TEXT: Patience and perseverance are essential for overcoming long-term goals.\",\n",
              "  'To decode the rot-13 text, we need to shift each letter 13 positions backward in the alphabet. \\n\\nHere is the decoding process for the given text:\\n\\nE -> R\\nr -> e\\nf -> s\\nc -> p\\nr -> e\\np -> c\\ng -> t\\n(space remains the same)\\ns -> f\\nb -> o\\ne -> r\\n(space remains the same)\\nq -> d\\nv -> i\\ni -> v\\nr -> e\\ne -> r\\nf -> s\\nv -> i\\ng -> t\\nl -> y\\n(space remains the same)\\nr -> e\\na -> n\\ne -> r\\nv -> i\\np -> c\\nu -> h\\nr -> e\\nf -> s\\n(space remains the same)\\nf -> o\\nb -> o\\np -> c\\nv -> i\\nr -> e\\ng -> t\\nl -> y\\n(space remains the same)\\nn -> a\\na -> n\\nq -> d\\n(space remains the same)\\nc -> p\\ne -> r\\nb -> o\\nz -> m\\nb -> o\\ng -> t\\nr -> e\\nf -> o\\n(space remains the same)\\nh -> u\\na -> n\\nq -> d\\nr -> e\\ne -> r\\nf -> o\\ng -> t\\nn -> a\\na -> n\\nq -> d\\nv -> i\\na -> n\\nt -> g\\n\\nORIGINAL TEXT: “Respect for diversity enriches society and promotes understanding.”',\n",
              "  \"To decode the rot-13 message, we need to shift each letter 13 positions backward in the alphabet.\\n\\nHere's the decoding process:\\n\\n1. F -> S (since F is the 6th letter and shifting 13 positions backward makes it S, the 19th letter)\\n2. h -> u\\n3. p -> o\\n4. p -> o\\n5. r -> e\\n6. f -> s\\n7. f -> s\\n8.  (space remains the same)\\n9. v -> i\\n10. f -> s\\n11.  (space remains the same)\\n12. n -> a\\n13.  (space remains the same)\\n14. w -> j\\n15. b -> o\\n16. h -> u\\n17. e -> r\\n18. a -> n\\n19. r -> e\\n20. l -> y\\n21.  (space remains the same)\\n22. q -> d\\n23. r -> e\\n24. s -> f\\n25. v -> i\\n26. a -> n\\n27. r -> e\\n28. q -> d\\n29.  (space remains the same)\\n30. o -> b\\n31. l -> y\\n32.  (space remains the same)\\n33. c -> p\\n34. e -> r\\n35. b -> o\\n36. t -> g\\n37. e -> r\\n38. r -> e\\n39. f -> s\\n40. f -> s\\n41.  (space remains the same)\\n42. a -> n\\n43. b -> o\\n44. g -> t\\n45.  (space remains the same)\\n46. c -> p\\n47. r -> e\\n48. e -> s\\n49. s -> f\\n50. r -> e\\n51. p -> o\\n52. g -> r\\n53. v -> i\\n54. b -> o\\n55. a -> n\\n\\nAfter decoding the message, we get:\\n\\nORIGINAL TEXT: “Success is a journey defined by progress, not perfection.”\"]}"
            ]
          },
          "metadata": {},
          "execution_count": 26
        }
      ]
    },
    {
      "cell_type": "markdown",
      "source": [
        "Let's extract the actual answer:"
      ],
      "metadata": {
        "id": "WHEp-3r4DQoX"
      }
    },
    {
      "cell_type": "code",
      "source": [
        "def extract_original_text(text):\n",
        "    start_marker = \"ORIGINAL TEXT:\"\n",
        "    if start_marker in text:\n",
        "        start_index = text.index(start_marker) + len(start_marker)\n",
        "        return text[start_index:].strip().strip('“').strip('\"')\n",
        "    else:\n",
        "        return None\n",
        "\n",
        "def word_match_ratio(true_string, predicted_string):\n",
        "    if predicted_string is None or len(predicted_string) == 0:\n",
        "        return 0.0\n",
        "    true_words = true_string.split()\n",
        "    predicted_words = predicted_string.split()\n",
        "\n",
        "    # Find the minimum length to compare words up to the shortest string\n",
        "    min_length = min(len(true_words), len(predicted_words))\n",
        "\n",
        "    # Count matching words at the same positions\n",
        "    matches = sum(1 for i in range(min_length) if true_words[i] == predicted_words[i])\n",
        "\n",
        "    # Calculate ratio of matches in true_string\n",
        "    ratio = matches / len(true_words) if len(true_words) > 0 else 0\n",
        "\n",
        "    return ratio\n",
        "\n",
        "accuracy_sum = 0\n",
        "for deciphered_text, sentence in zip(result['log'], test_sentences):\n",
        "    true_deciphered_text = extract_original_text(deciphered_text)\n",
        "    accuracy_sum += word_match_ratio(sentence, true_deciphered_text)\n",
        "    print(true_deciphered_text, '<=>', sentence)\n",
        "    print()\n",
        "print('Mean word-by-word accuracy:', accuracy_sum / len(test_sentences))"
      ],
      "metadata": {
        "colab": {
          "base_uri": "https://localhost:8080/"
        },
        "id": "8maqAqKq9t4_",
        "outputId": "51131155-34f2-4f17-8bcf-83f09a242164"
      },
      "execution_count": null,
      "outputs": [
        {
          "output_type": "stream",
          "name": "stdout",
          "text": [
            "The power of knowledge lies in understanding and growth. <=> The power of knowledge lies in understanding and growth.\n",
            "\n",
            "Every journey begins with a single step toward the unknown.” <=> Every journey begins with a single step toward the unknown.\n",
            "\n",
            "Effective communication requires both speaking and listening. <=> Effective communication requires both speaking and listening.\n",
            "\n",
            "Technology has completely transformed the way we connect with others. <=> Technology has rapidly transformed the way we connect with others.\n",
            "\n",
            "Creativity sometimes just requires one ingredient.” <=> Creativity flourishes when freedom and structure are balanced.\n",
            "\n",
            "Innovation often emerges from unexpected challenges and offsprings.” <=> Innovation often emerges from unexpected challenges and obstacles.\n",
            "\n",
            "A well-prepared mind can turn any situation into an opportunity. <=> A well-prepared mind can turn any situation into an opportunity.\n",
            "\n",
            "Patience and perseverance are essential for overcoming long-term goals. <=> Patience and persistence are essential for achieving long-term goals.\n",
            "\n",
            "Respect for diversity enriches society and promotes understanding.” <=> Respect for diversity enriches society and promotes understanding.\n",
            "\n",
            "Success is a journey defined by progress, not perfection.” <=> Success is a journey defined by progress, not perfection.\n",
            "\n",
            "Mean word-by-word accuracy: 0.8341666666666667\n"
          ]
        }
      ]
    },
    {
      "cell_type": "markdown",
      "source": [
        "This was a highly popular shift. Now let's try shift 8:"
      ],
      "metadata": {
        "id": "CzllL6WlDxdZ"
      }
    },
    {
      "cell_type": "code",
      "source": [
        "result_8 = check_llm_decipering(test_sentences, shift=8)\n",
        "\n",
        "accuracy_sum = 0\n",
        "for deciphered_text, sentence in zip(result_8['log'], test_sentences):\n",
        "    true_deciphered_text = extract_original_text(deciphered_text)\n",
        "    accuracy_sum += word_match_ratio(sentence, true_deciphered_text)\n",
        "    print(true_deciphered_text, '<=>', sentence)\n",
        "    print()\n",
        "print('Mean word-by-word accuracy:', accuracy_sum / len(test_sentences))"
      ],
      "metadata": {
        "id": "u33mQcUedRTP",
        "colab": {
          "base_uri": "https://localhost:8080/"
        },
        "outputId": "44633ef9-0f4c-4ed7-f7ce-1a873d5d73e2"
      },
      "execution_count": null,
      "outputs": [
        {
          "output_type": "stream",
          "name": "stderr",
          "text": [
            "100%|██████████| 10/10 [02:26<00:00, 14.69s/it]"
          ]
        },
        {
          "output_type": "stream",
          "name": "stdout",
          "text": [
            "None <=> The power of knowledge lies in understanding and growth.\n",
            "\n",
            "Every journey bears a serial arrest before orderly real lord ever order. <=> Every journey begins with a single step toward the unknown.\n",
            "\n",
            "Errcnipe greetingevery everyone stay cheerful and thankful <=> Effective communication requires both speaking and listening.\n",
            "\n",
            "None <=> Technology has rapidly transformed the way we connect with others.\n",
            "\n",
            "Shaqjnyjo vleohyiqai moal vhaaoes qlo ijhosjocha qha oqlqlsao <=> Creativity flourishes when freedom and structure are balanced.\n",
            "\n",
            "It is obvious that people often look backwards in old photographs. <=> Innovation often emerges from unexpected challenges and obstacles.\n",
            "\n",
            "A worry rural area stay here again and something needs to be discussed. <=> A well-prepared mind can turn any situation into an opportunity.\n",
            "\n",
            "Rational and reasonable and important for everyone today-most often.” <=> Patience and persistence are essential for achieving long-term goals.\n",
            "\n",
            "Reserve our libraries everywhere except in universities and colleges. <=> Respect for diversity enriches society and promotes understanding.\n",
            "\n",
            "Success is a journey, not a destination, so strive for it.” <=> Success is a journey defined by progress, not perfection.\n",
            "\n",
            "Mean word-by-word accuracy: 0.09984126984126984\n"
          ]
        },
        {
          "output_type": "stream",
          "name": "stderr",
          "text": [
            "\n"
          ]
        }
      ]
    },
    {
      "cell_type": "code",
      "source": [],
      "metadata": {
        "id": "fpNsaWhDDOPU"
      },
      "execution_count": null,
      "outputs": []
    }
  ]
}